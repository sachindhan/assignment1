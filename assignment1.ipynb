{
 "cells": [
  {
   "cell_type": "code",
   "execution_count": null,
   "id": "86f42637-c298-4b61-ad98-5b79038b679e",
   "metadata": {},
   "outputs": [],
   "source": [
    "Ans 1 =   \"Guido van Rossum\""
   ]
  },
  {
   "cell_type": "code",
   "execution_count": null,
   "id": "59ae024f-be7f-4d1d-9ab5-982c94633190",
   "metadata": {},
   "outputs": [],
   "source": [
    "Ans 2 =  \"Python is an interpreted programming language, supporting object-oriented, structured, and functional programming\""
   ]
  },
  {
   "cell_type": "code",
   "execution_count": null,
   "id": "fc5f0d02-7f72-48c9-b106-eb5f190dac48",
   "metadata": {},
   "outputs": [],
   "source": [
    "Ans 3 = \"Yes, Python is case sensitive when dealing with identifiers\""
   ]
  },
  {
   "cell_type": "code",
   "execution_count": null,
   "id": "f3d8c631-cc9e-46d2-a2c1-1bc6e002b2c6",
   "metadata": {},
   "outputs": [],
   "source": [
    "Ans 4 = \" .py\""
   ]
  },
  {
   "cell_type": "code",
   "execution_count": null,
   "id": "c8dc6c9f-c13d-4a4c-94f9-024dc3cd9a1b",
   "metadata": {},
   "outputs": [],
   "source": [
    "Ans 5 = \"Python is an interpreted language \""
   ]
  },
  {
   "cell_type": "code",
   "execution_count": null,
   "id": "9264eab4-57b0-4f12-9716-694032c7548c",
   "metadata": {},
   "outputs": [],
   "source": [
    "Ans 6 = \" a module, a function body, and a class definition\""
   ]
  },
  {
   "cell_type": "code",
   "execution_count": null,
   "id": "43b73875-a14b-4151-9273-87d6635c7234",
   "metadata": {},
   "outputs": [],
   "source": [
    "Ans 7 = \"single # character \""
   ]
  },
  {
   "cell_type": "code",
   "execution_count": null,
   "id": "ea3158b8-18f2-40c8-a825-c7e48969e759",
   "metadata": {},
   "outputs": [],
   "source": [
    "Ans 8 = \"  sys. version \""
   ]
  },
  {
   "cell_type": "code",
   "execution_count": null,
   "id": "f83536ca-02d0-4420-abc5-8bedbcfba7b9",
   "metadata": {},
   "outputs": [],
   "source": [
    "Ans 9 = \"lambda \""
   ]
  },
  {
   "cell_type": "code",
   "execution_count": null,
   "id": "b567a35e-1cd3-407c-998b-d9c136124405",
   "metadata": {},
   "outputs": [],
   "source": [
    "Ans 10 = \" pip Install Packages\""
   ]
  },
  {
   "cell_type": "code",
   "execution_count": null,
   "id": "42ddef54-0c50-49a3-b271-7538df522705",
   "metadata": {},
   "outputs": [],
   "source": [
    "Ans 11 = \" bin() , bool() , bytearray() , bytes() \""
   ]
  },
  {
   "cell_type": "code",
   "execution_count": null,
   "id": "49290b9b-bb00-4763-8172-74b395b1988a",
   "metadata": {},
   "outputs": [],
   "source": [
    "Ans 12 = \"79 characters \""
   ]
  },
  {
   "cell_type": "code",
   "execution_count": null,
   "id": "0819b414-d1d8-4eda-949a-6292e5fbb1cd",
   "metadata": {},
   "outputs": [],
   "source": [
    "Ans 13 = \" Data science\n",
    "        \"Scientific and mathematical computing \"\n",
    "         \"Web development \" \n",
    "        \"Finance and trading\"\n",
    "         \"System automation and administration\"\n",
    "           \"Computer graphics\"\n",
    "         \"Basic game development\"\n",
    "          \"Security and penetration testing \""
   ]
  },
  {
   "cell_type": "code",
   "execution_count": null,
   "id": "568a6f8a-bad0-4bb9-bba6-89b9dc216338",
   "metadata": {},
   "outputs": [],
   "source": [
    "Ans 14 =\" Memory management in Python involves a private heap containing all Python objects and data structures. \n",
    "         \"The management of this private heap is ensured inby the Python memory manager \""
   ]
  },
  {
   "cell_type": "code",
   "execution_count": null,
   "id": "9d4c7e87-5c98-4131-a930-757fa9c71a8a",
   "metadata": {},
   "outputs": [],
   "source": [
    "Ans 15 =  #Install python from this link https://www.python.org/downloads/\n",
    "          # After this, install it on your PC. Look for the location where PYTHON has been installed on your PC using tge following command on your command prompt: cmd python.\n",
    "          # Then go to advanced system settings and add new variable and name it as PYTHON_NAME and paste the copied path.\n",
    "          # Then look for the path variable, select it's value and select edit\n",
    "          # Add a semicolon towards the end of the value if it's not present and then type %PYTHON_HOME% \"\n",
    "        "
   ]
  },
  {
   "cell_type": "code",
   "execution_count": null,
   "id": "2d7f505e-0fb9-4e5d-a41a-245e418ed1e9",
   "metadata": {},
   "outputs": [],
   "source": [
    "Ans 16 = \" Indentation is important to Python because it's how you determine scope \""
   ]
  }
 ],
 "metadata": {
  "kernelspec": {
   "display_name": "Python 3 (ipykernel)",
   "language": "python",
   "name": "python3"
  },
  "language_info": {
   "codemirror_mode": {
    "name": "ipython",
    "version": 3
   },
   "file_extension": ".py",
   "mimetype": "text/x-python",
   "name": "python",
   "nbconvert_exporter": "python",
   "pygments_lexer": "ipython3",
   "version": "3.10.8"
  }
 },
 "nbformat": 4,
 "nbformat_minor": 5
}
